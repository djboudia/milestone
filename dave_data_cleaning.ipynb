{
  "nbformat": 4,
  "nbformat_minor": 0,
  "metadata": {
    "colab": {
      "provenance": [],
      "collapsed_sections": [],
      "authorship_tag": "ABX9TyMPV3TJI+GQQ+Meug9ZFWKF",
      "include_colab_link": true
    },
    "kernelspec": {
      "name": "python3",
      "display_name": "Python 3"
    },
    "language_info": {
      "name": "python"
    }
  },
  "cells": [
    {
      "cell_type": "markdown",
      "metadata": {
        "id": "view-in-github",
        "colab_type": "text"
      },
      "source": [
        "<a href=\"https://colab.research.google.com/github/djboudia/milestone/blob/main/dave_data_cleaning.ipynb\" target=\"_parent\"><img src=\"https://colab.research.google.com/assets/colab-badge.svg\" alt=\"Open In Colab\"/></a>"
      ]
    },
    {
      "cell_type": "code",
      "execution_count": null,
      "metadata": {
        "id": "QhitnsDCEvWc"
      },
      "outputs": [],
      "source": [
        "import pandas as pd"
      ]
    },
    {
      "cell_type": "code",
      "source": [
        "train_url = 'https://raw.githubusercontent.com/Tstrebe2/predicting-text-difficulty/main/assets/WikiLarge_Train.csv'"
      ],
      "metadata": {
        "id": "aak7t96Z8yI_"
      },
      "execution_count": null,
      "outputs": []
    },
    {
      "cell_type": "code",
      "source": [
        "train_df = pd.read_csv(train_url)"
      ],
      "metadata": {
        "id": "gngt3Y3c9mr1"
      },
      "execution_count": null,
      "outputs": []
    },
    {
      "cell_type": "code",
      "source": [
        "train_df.head()"
      ],
      "metadata": {
        "id": "NIO1PkMV9qRW",
        "outputId": "f5a4051a-61b9-4f44-fd5a-ce6ac684cfc5",
        "colab": {
          "base_uri": "https://localhost:8080/",
          "height": 204
        }
      },
      "execution_count": null,
      "outputs": [
        {
          "output_type": "execute_result",
          "data": {
            "text/plain": [
              "                                       original_text  label\n",
              "0  There is manuscript evidence that Austen conti...      1\n",
              "1  In a remarkable comparative analysis , Mandaea...      1\n",
              "2  Before Persephone was released to Hermes , who...      1\n",
              "3  Cogeneration plants are commonly found in dist...      1\n",
              "4  Geneva -LRB- , ; , ; , ; ; -RRB- is the second...      1"
            ],
            "text/html": [
              "\n",
              "  <div id=\"df-2e1c6e7e-3418-406f-bdcb-ca030240175f\">\n",
              "    <div class=\"colab-df-container\">\n",
              "      <div>\n",
              "<style scoped>\n",
              "    .dataframe tbody tr th:only-of-type {\n",
              "        vertical-align: middle;\n",
              "    }\n",
              "\n",
              "    .dataframe tbody tr th {\n",
              "        vertical-align: top;\n",
              "    }\n",
              "\n",
              "    .dataframe thead th {\n",
              "        text-align: right;\n",
              "    }\n",
              "</style>\n",
              "<table border=\"1\" class=\"dataframe\">\n",
              "  <thead>\n",
              "    <tr style=\"text-align: right;\">\n",
              "      <th></th>\n",
              "      <th>original_text</th>\n",
              "      <th>label</th>\n",
              "    </tr>\n",
              "  </thead>\n",
              "  <tbody>\n",
              "    <tr>\n",
              "      <th>0</th>\n",
              "      <td>There is manuscript evidence that Austen conti...</td>\n",
              "      <td>1</td>\n",
              "    </tr>\n",
              "    <tr>\n",
              "      <th>1</th>\n",
              "      <td>In a remarkable comparative analysis , Mandaea...</td>\n",
              "      <td>1</td>\n",
              "    </tr>\n",
              "    <tr>\n",
              "      <th>2</th>\n",
              "      <td>Before Persephone was released to Hermes , who...</td>\n",
              "      <td>1</td>\n",
              "    </tr>\n",
              "    <tr>\n",
              "      <th>3</th>\n",
              "      <td>Cogeneration plants are commonly found in dist...</td>\n",
              "      <td>1</td>\n",
              "    </tr>\n",
              "    <tr>\n",
              "      <th>4</th>\n",
              "      <td>Geneva -LRB- , ; , ; , ; ; -RRB- is the second...</td>\n",
              "      <td>1</td>\n",
              "    </tr>\n",
              "  </tbody>\n",
              "</table>\n",
              "</div>\n",
              "      <button class=\"colab-df-convert\" onclick=\"convertToInteractive('df-2e1c6e7e-3418-406f-bdcb-ca030240175f')\"\n",
              "              title=\"Convert this dataframe to an interactive table.\"\n",
              "              style=\"display:none;\">\n",
              "        \n",
              "  <svg xmlns=\"http://www.w3.org/2000/svg\" height=\"24px\"viewBox=\"0 0 24 24\"\n",
              "       width=\"24px\">\n",
              "    <path d=\"M0 0h24v24H0V0z\" fill=\"none\"/>\n",
              "    <path d=\"M18.56 5.44l.94 2.06.94-2.06 2.06-.94-2.06-.94-.94-2.06-.94 2.06-2.06.94zm-11 1L8.5 8.5l.94-2.06 2.06-.94-2.06-.94L8.5 2.5l-.94 2.06-2.06.94zm10 10l.94 2.06.94-2.06 2.06-.94-2.06-.94-.94-2.06-.94 2.06-2.06.94z\"/><path d=\"M17.41 7.96l-1.37-1.37c-.4-.4-.92-.59-1.43-.59-.52 0-1.04.2-1.43.59L10.3 9.45l-7.72 7.72c-.78.78-.78 2.05 0 2.83L4 21.41c.39.39.9.59 1.41.59.51 0 1.02-.2 1.41-.59l7.78-7.78 2.81-2.81c.8-.78.8-2.07 0-2.86zM5.41 20L4 18.59l7.72-7.72 1.47 1.35L5.41 20z\"/>\n",
              "  </svg>\n",
              "      </button>\n",
              "      \n",
              "  <style>\n",
              "    .colab-df-container {\n",
              "      display:flex;\n",
              "      flex-wrap:wrap;\n",
              "      gap: 12px;\n",
              "    }\n",
              "\n",
              "    .colab-df-convert {\n",
              "      background-color: #E8F0FE;\n",
              "      border: none;\n",
              "      border-radius: 50%;\n",
              "      cursor: pointer;\n",
              "      display: none;\n",
              "      fill: #1967D2;\n",
              "      height: 32px;\n",
              "      padding: 0 0 0 0;\n",
              "      width: 32px;\n",
              "    }\n",
              "\n",
              "    .colab-df-convert:hover {\n",
              "      background-color: #E2EBFA;\n",
              "      box-shadow: 0px 1px 2px rgba(60, 64, 67, 0.3), 0px 1px 3px 1px rgba(60, 64, 67, 0.15);\n",
              "      fill: #174EA6;\n",
              "    }\n",
              "\n",
              "    [theme=dark] .colab-df-convert {\n",
              "      background-color: #3B4455;\n",
              "      fill: #D2E3FC;\n",
              "    }\n",
              "\n",
              "    [theme=dark] .colab-df-convert:hover {\n",
              "      background-color: #434B5C;\n",
              "      box-shadow: 0px 1px 3px 1px rgba(0, 0, 0, 0.15);\n",
              "      filter: drop-shadow(0px 1px 2px rgba(0, 0, 0, 0.3));\n",
              "      fill: #FFFFFF;\n",
              "    }\n",
              "  </style>\n",
              "\n",
              "      <script>\n",
              "        const buttonEl =\n",
              "          document.querySelector('#df-2e1c6e7e-3418-406f-bdcb-ca030240175f button.colab-df-convert');\n",
              "        buttonEl.style.display =\n",
              "          google.colab.kernel.accessAllowed ? 'block' : 'none';\n",
              "\n",
              "        async function convertToInteractive(key) {\n",
              "          const element = document.querySelector('#df-2e1c6e7e-3418-406f-bdcb-ca030240175f');\n",
              "          const dataTable =\n",
              "            await google.colab.kernel.invokeFunction('convertToInteractive',\n",
              "                                                     [key], {});\n",
              "          if (!dataTable) return;\n",
              "\n",
              "          const docLinkHtml = 'Like what you see? Visit the ' +\n",
              "            '<a target=\"_blank\" href=https://colab.research.google.com/notebooks/data_table.ipynb>data table notebook</a>'\n",
              "            + ' to learn more about interactive tables.';\n",
              "          element.innerHTML = '';\n",
              "          dataTable['output_type'] = 'display_data';\n",
              "          await google.colab.output.renderOutput(dataTable, element);\n",
              "          const docLink = document.createElement('div');\n",
              "          docLink.innerHTML = docLinkHtml;\n",
              "          element.appendChild(docLink);\n",
              "        }\n",
              "      </script>\n",
              "    </div>\n",
              "  </div>\n",
              "  "
            ]
          },
          "metadata": {},
          "execution_count": 15
        }
      ]
    },
    {
      "cell_type": "code",
      "source": [
        "train_df.sample(20)[['original_text', \n",
        "                     'label']].style.set_properties(subset=['original_text'], \n",
        "                                                    **{'width': '500px'})"
      ],
      "metadata": {
        "id": "r-uuZ8jB9uO7",
        "outputId": "e929fe24-6f7c-4d82-e20e-d15df6f1dd43",
        "colab": {
          "base_uri": "https://localhost:8080/",
          "height": 1000
        }
      },
      "execution_count": null,
      "outputs": [
        {
          "output_type": "execute_result",
          "data": {
            "text/plain": [
              "<pandas.io.formats.style.Styler at 0x7fd0ebea2f10>"
            ],
            "text/html": [
              "<style type=\"text/css\">\n",
              "#T_19406_row0_col0, #T_19406_row1_col0, #T_19406_row2_col0, #T_19406_row3_col0, #T_19406_row4_col0, #T_19406_row5_col0, #T_19406_row6_col0, #T_19406_row7_col0, #T_19406_row8_col0, #T_19406_row9_col0, #T_19406_row10_col0, #T_19406_row11_col0, #T_19406_row12_col0, #T_19406_row13_col0, #T_19406_row14_col0, #T_19406_row15_col0, #T_19406_row16_col0, #T_19406_row17_col0, #T_19406_row18_col0, #T_19406_row19_col0 {\n",
              "  width: 500px;\n",
              "}\n",
              "</style>\n",
              "<table id=\"T_19406_\" class=\"dataframe\">\n",
              "  <thead>\n",
              "    <tr>\n",
              "      <th class=\"blank level0\" >&nbsp;</th>\n",
              "      <th class=\"col_heading level0 col0\" >original_text</th>\n",
              "      <th class=\"col_heading level0 col1\" >label</th>\n",
              "    </tr>\n",
              "  </thead>\n",
              "  <tbody>\n",
              "    <tr>\n",
              "      <th id=\"T_19406_level0_row0\" class=\"row_heading level0 row0\" >188856</th>\n",
              "      <td id=\"T_19406_row0_col0\" class=\"data row0 col0\" >In March 2010 eBay unveiled a new classifieds site , called eBay Classifieds , to replace its old site , Kijiji , in the United States .</td>\n",
              "      <td id=\"T_19406_row0_col1\" class=\"data row0 col1\" >1</td>\n",
              "    </tr>\n",
              "    <tr>\n",
              "      <th id=\"T_19406_level0_row1\" class=\"row_heading level0 row1\" >198108</th>\n",
              "      <td id=\"T_19406_row1_col0\" class=\"data row1 col0\" >The Explorer was the first cruise ship designed specifically to sail the icy waters of the Antarctic Ocean , and the first to sink there when she struck an unidentified submerged object on November 23 , 2007 , reported to be ice , which caused a 10 by 4 inch -LRB- 25 × 10 cm -RRB- gash in the hull .</td>\n",
              "      <td id=\"T_19406_row1_col1\" class=\"data row1 col1\" >1</td>\n",
              "    </tr>\n",
              "    <tr>\n",
              "      <th id=\"T_19406_level0_row2\" class=\"row_heading level0 row2\" >5851</th>\n",
              "      <td id=\"T_19406_row2_col0\" class=\"data row2 col0\" >Cerfontaine is a Walloon municipality located in Belgium in the province of Namur .</td>\n",
              "      <td id=\"T_19406_row2_col1\" class=\"data row2 col1\" >1</td>\n",
              "    </tr>\n",
              "    <tr>\n",
              "      <th id=\"T_19406_level0_row3\" class=\"row_heading level0 row3\" >324597</th>\n",
              "      <td id=\"T_19406_row3_col0\" class=\"data row3 col0\" >It has not been studied a lot despite being one of the biggest asteroids .</td>\n",
              "      <td id=\"T_19406_row3_col1\" class=\"data row3 col1\" >0</td>\n",
              "    </tr>\n",
              "    <tr>\n",
              "      <th id=\"T_19406_level0_row4\" class=\"row_heading level0 row4\" >236806</th>\n",
              "      <td id=\"T_19406_row4_col0\" class=\"data row4 col0\" >In the 1990s , bands like New Kids on the Block and Backstreet Boys were very popular with teenagers .</td>\n",
              "      <td id=\"T_19406_row4_col1\" class=\"data row4 col1\" >0</td>\n",
              "    </tr>\n",
              "    <tr>\n",
              "      <th id=\"T_19406_level0_row5\" class=\"row_heading level0 row5\" >40182</th>\n",
              "      <td id=\"T_19406_row5_col0\" class=\"data row5 col0\" >The formal name '' Nix '' , from the Greek goddess of darkness and night , and mother of Charon , was announced on June 21 , 2006 , on IAU Circular 8723 , where the designation Pluto II is also given .</td>\n",
              "      <td id=\"T_19406_row5_col1\" class=\"data row5 col1\" >1</td>\n",
              "    </tr>\n",
              "    <tr>\n",
              "      <th id=\"T_19406_level0_row6\" class=\"row_heading level0 row6\" >256998</th>\n",
              "      <td id=\"T_19406_row6_col0\" class=\"data row6 col0\" >Relief -LRB- music -RRB- , the curvature of the neck of a guitar or similar instrument</td>\n",
              "      <td id=\"T_19406_row6_col1\" class=\"data row6 col1\" >0</td>\n",
              "    </tr>\n",
              "    <tr>\n",
              "      <th id=\"T_19406_level0_row7\" class=\"row_heading level0 row7\" >138589</th>\n",
              "      <td id=\"T_19406_row7_col0\" class=\"data row7 col0\" >The Grand Prix road course , unlike the oval , is raced in a clockwise direction .</td>\n",
              "      <td id=\"T_19406_row7_col1\" class=\"data row7 col1\" >1</td>\n",
              "    </tr>\n",
              "    <tr>\n",
              "      <th id=\"T_19406_level0_row8\" class=\"row_heading level0 row8\" >50822</th>\n",
              "      <td id=\"T_19406_row8_col0\" class=\"data row8 col0\" >During a Cassini flyby in late February 2007 , radar and camera observations revealed several large features in the north polar region that may be large expanses of liquid methane and\\/or ethane , including one sea with an area of over 100,000 kmÂ -LRB- larger than Lake Superior -RRB- , and another -LRB- though less definite -RRB- region potentially the size of the Caspian Sea .</td>\n",
              "      <td id=\"T_19406_row8_col1\" class=\"data row8 col1\" >1</td>\n",
              "    </tr>\n",
              "    <tr>\n",
              "      <th id=\"T_19406_level0_row9\" class=\"row_heading level0 row9\" >409648</th>\n",
              "      <td id=\"T_19406_row9_col0\" class=\"data row9 col0\" >Filderstadt is a town in the district of Esslingen , in Baden-W Ã 1\\/4 rttemberg , Germany .</td>\n",
              "      <td id=\"T_19406_row9_col1\" class=\"data row9 col1\" >0</td>\n",
              "    </tr>\n",
              "    <tr>\n",
              "      <th id=\"T_19406_level0_row10\" class=\"row_heading level0 row10\" >125967</th>\n",
              "      <td id=\"T_19406_row10_col0\" class=\"data row10 col0\" >Waterparks in more current states of development may also be equipped with some type of artificial surfing or bodyboarding environment such as a wave pool or a FlowRider .</td>\n",
              "      <td id=\"T_19406_row10_col1\" class=\"data row10 col1\" >1</td>\n",
              "    </tr>\n",
              "    <tr>\n",
              "      <th id=\"T_19406_level0_row11\" class=\"row_heading level0 row11\" >71644</th>\n",
              "      <td id=\"T_19406_row11_col0\" class=\"data row11 col0\" >Nine Inch Nails is an American industrial rock project , founded in 1988 by Trent Reznor in Cleveland , Ohio .</td>\n",
              "      <td id=\"T_19406_row11_col1\" class=\"data row11 col1\" >1</td>\n",
              "    </tr>\n",
              "    <tr>\n",
              "      <th id=\"T_19406_level0_row12\" class=\"row_heading level0 row12\" >405328</th>\n",
              "      <td id=\"T_19406_row12_col0\" class=\"data row12 col0\" >Associated</td>\n",
              "      <td id=\"T_19406_row12_col1\" class=\"data row12 col1\" >0</td>\n",
              "    </tr>\n",
              "    <tr>\n",
              "      <th id=\"T_19406_level0_row13\" class=\"row_heading level0 row13\" >58260</th>\n",
              "      <td id=\"T_19406_row13_col0\" class=\"data row13 col0\" >Mayhem is a Norwegian black metal band formed in 1984Euronymous ' final words , a screenshot in Oslo , Norway .</td>\n",
              "      <td id=\"T_19406_row13_col1\" class=\"data row13 col1\" >1</td>\n",
              "    </tr>\n",
              "    <tr>\n",
              "      <th id=\"T_19406_level0_row14\" class=\"row_heading level0 row14\" >17707</th>\n",
              "      <td id=\"T_19406_row14_col0\" class=\"data row14 col0\" >Lafayette Ronald Hubbard -LRB- March 13 , 1911 -- January 24 , 1986 -RRB- was an American science fiction author who developed a self-help system called Dianetics , which was first published in 1950 .</td>\n",
              "      <td id=\"T_19406_row14_col1\" class=\"data row14 col1\" >1</td>\n",
              "    </tr>\n",
              "    <tr>\n",
              "      <th id=\"T_19406_level0_row15\" class=\"row_heading level0 row15\" >96515</th>\n",
              "      <td id=\"T_19406_row15_col0\" class=\"data row15 col0\" >Lungi International Airport serves as the primary airport for domestic and international travel to and from Sierra Leone .</td>\n",
              "      <td id=\"T_19406_row15_col1\" class=\"data row15 col1\" >1</td>\n",
              "    </tr>\n",
              "    <tr>\n",
              "      <th id=\"T_19406_level0_row16\" class=\"row_heading level0 row16\" >406080</th>\n",
              "      <td id=\"T_19406_row16_col0\" class=\"data row16 col0\" >It is about 24 kilometers in diameter .</td>\n",
              "      <td id=\"T_19406_row16_col1\" class=\"data row16 col1\" >0</td>\n",
              "    </tr>\n",
              "    <tr>\n",
              "      <th id=\"T_19406_level0_row17\" class=\"row_heading level0 row17\" >147486</th>\n",
              "      <td id=\"T_19406_row17_col0\" class=\"data row17 col0\" >He then married Ditta PÃ sztory , a piano student .</td>\n",
              "      <td id=\"T_19406_row17_col1\" class=\"data row17 col1\" >1</td>\n",
              "    </tr>\n",
              "    <tr>\n",
              "      <th id=\"T_19406_level0_row18\" class=\"row_heading level0 row18\" >243576</th>\n",
              "      <td id=\"T_19406_row18_col0\" class=\"data row18 col0\" >Rustavi was a second time built in 20th century . In Rustavi works the Rustavi Metallurgical Plant .</td>\n",
              "      <td id=\"T_19406_row18_col1\" class=\"data row18 col1\" >0</td>\n",
              "    </tr>\n",
              "    <tr>\n",
              "      <th id=\"T_19406_level0_row19\" class=\"row_heading level0 row19\" >73260</th>\n",
              "      <td id=\"T_19406_row19_col0\" class=\"data row19 col0\" >The electron microscope -LRB- EM -RRB- uses a particle beam of electrons to illuminate the specimen and create a magnified image of it .</td>\n",
              "      <td id=\"T_19406_row19_col1\" class=\"data row19 col1\" >1</td>\n",
              "    </tr>\n",
              "  </tbody>\n",
              "</table>\n"
            ]
          },
          "metadata": {},
          "execution_count": 76
        }
      ]
    },
    {
      "cell_type": "code",
      "source": [
        "# Observations of things that need cleaning:\n",
        "# join \" 's \" with their associated words; same with contractions  - done\n",
        "# Some sentences are partials of other sentences within the corpus\n",
        "# Need to address accents - not sure if I do\n",
        "# Need to address punctuation (vectorizers) - handled through simple_preprocess\n",
        "# Address weird quotations - (example at index 11005) '' yogurt ' ''\n",
        "# Need to address -LRB and -RRB which are lemma references to left \n",
        "# and right parentheses - done\n",
        "# remove 'â' (misformatting) - this is incorrect encoding. use ftfy package\n",
        "# \n",
        "\n",
        "\n",
        "# Observations\n",
        "  # difficulty can be a combination of hard words, hard to pronounce or unfamiliar\n",
        "  # names, long-run on sentences, harder topics (eg Linux kernel or\n",
        "  # referring to dog breeds as an example) or just non-sensical sentences without\n",
        "  # context\n",
        "\n",
        "\n"
      ],
      "metadata": {
        "id": "ioMbAByC9zqD"
      },
      "execution_count": null,
      "outputs": []
    },
    {
      "cell_type": "code",
      "source": [
        "# Found a solution to help with contractions\n",
        "!pip install contractions\n",
        "!pip install gensim\n",
        "!pip install ftfy\n",
        "!pip install unidecode"
      ],
      "metadata": {
        "id": "zHHGOyWKAmb2",
        "outputId": "1d72e02b-d455-4dad-ff23-68058faf8744",
        "colab": {
          "base_uri": "https://localhost:8080/"
        }
      },
      "execution_count": null,
      "outputs": [
        {
          "output_type": "stream",
          "name": "stdout",
          "text": [
            "Looking in indexes: https://pypi.org/simple, https://us-python.pkg.dev/colab-wheels/public/simple/\n",
            "Requirement already satisfied: contractions in /usr/local/lib/python3.7/dist-packages (0.1.72)\n",
            "Requirement already satisfied: textsearch>=0.0.21 in /usr/local/lib/python3.7/dist-packages (from contractions) (0.0.24)\n",
            "Requirement already satisfied: pyahocorasick in /usr/local/lib/python3.7/dist-packages (from textsearch>=0.0.21->contractions) (1.4.4)\n",
            "Requirement already satisfied: anyascii in /usr/local/lib/python3.7/dist-packages (from textsearch>=0.0.21->contractions) (0.3.1)\n",
            "Looking in indexes: https://pypi.org/simple, https://us-python.pkg.dev/colab-wheels/public/simple/\n",
            "Requirement already satisfied: gensim in /usr/local/lib/python3.7/dist-packages (3.6.0)\n",
            "Requirement already satisfied: numpy>=1.11.3 in /usr/local/lib/python3.7/dist-packages (from gensim) (1.21.6)\n",
            "Requirement already satisfied: scipy>=0.18.1 in /usr/local/lib/python3.7/dist-packages (from gensim) (1.7.3)\n",
            "Requirement already satisfied: six>=1.5.0 in /usr/local/lib/python3.7/dist-packages (from gensim) (1.15.0)\n",
            "Requirement already satisfied: smart-open>=1.2.1 in /usr/local/lib/python3.7/dist-packages (from gensim) (5.2.1)\n",
            "Looking in indexes: https://pypi.org/simple, https://us-python.pkg.dev/colab-wheels/public/simple/\n",
            "Requirement already satisfied: ftfy in /usr/local/lib/python3.7/dist-packages (6.1.1)\n",
            "Requirement already satisfied: wcwidth>=0.2.5 in /usr/local/lib/python3.7/dist-packages (from ftfy) (0.2.5)\n",
            "Looking in indexes: https://pypi.org/simple, https://us-python.pkg.dev/colab-wheels/public/simple/\n",
            "Collecting unidecode\n",
            "  Downloading Unidecode-1.3.5-py3-none-any.whl (236 kB)\n",
            "\u001b[K     |████████████████████████████████| 236 kB 2.1 MB/s \n",
            "\u001b[?25hInstalling collected packages: unidecode\n",
            "Successfully installed unidecode-1.3.5\n"
          ]
        }
      ]
    },
    {
      "cell_type": "code",
      "source": [
        "import re\n",
        "import contractions\n",
        "from gensim.utils import simple_preprocess\n",
        "import ftfy\n",
        "from unidecode import unidecode\n",
        "\n",
        "def text_processing(s):\n",
        "  contract_lst = {'\\'ve': '\\'ve',\n",
        "                ' \\'ll': '\\'ll',\n",
        "                ' \\'d': '\\'d',\n",
        "                ' n\\'t': 'n\\'t'}\n",
        "  for key,value in contract_lst.items():\n",
        "    # remove spaces between contractions\n",
        "    s = re.sub(key, value,s)\n",
        "  \n",
        "  # replace contractions\n",
        "  s = contractions.fix(s)\n",
        "\n",
        "  # remove empty quotes\n",
        "  s = re.sub('\\'\\'','',s)\n",
        "\n",
        "  # remove lrb and rrb references\n",
        "  pattern = r'(-LRB-|-RRB-)+'\n",
        "  s = re.sub(pattern,'',s)\n",
        "\n",
        "\n",
        "  # remove ndash\n",
        "  s = re.sub('\\sndash\\s','',s)\n",
        "\n",
        "  # fix issues with incorrect encoding\n",
        "  \n",
        "  s = ftfy.fix_text(s)\n",
        "  return s\n",
        "  # return simple_preprocess(s)\n",
        "\n"
      ],
      "metadata": {
        "id": "p0P-pgrNAnUQ"
      },
      "execution_count": null,
      "outputs": []
    },
    {
      "cell_type": "code",
      "source": [
        "text = 'He then married Ditta PÃ sztory , a piano student .'\n",
        "fixed = text_processing(text)\n",
        "fixed"
      ],
      "metadata": {
        "colab": {
          "base_uri": "https://localhost:8080/",
          "height": 37
        },
        "id": "eb-T59-DEOg7",
        "outputId": "4a01b206-970f-4558-e94a-5db4351acfd5"
      },
      "execution_count": null,
      "outputs": [
        {
          "output_type": "execute_result",
          "data": {
            "text/plain": [
              "'He then married Ditta PÃ sztory , a piano student .'"
            ],
            "application/vnd.google.colaboratory.intrinsic+json": {
              "type": "string"
            }
          },
          "metadata": {},
          "execution_count": 14
        }
      ]
    },
    {
      "cell_type": "code",
      "source": [
        "train_df[train_df['original_text'].str.contains('1\\/4')]['original_text'].values"
      ],
      "metadata": {
        "id": "s1l5QPhPAzdd",
        "colab": {
          "base_uri": "https://localhost:8080/"
        },
        "outputId": "2ae72846-dae5-4917-933d-9413e7c2fa97"
      },
      "execution_count": null,
      "outputs": [
        {
          "output_type": "execute_result",
          "data": {
            "text/plain": [
              "array(['Because of this , Stephen Euin Cobb is somewhere between 1/8 and 1/4 Native American .',\n",
              "       'Coins Between 1832 and 1834 , copper 1 , 2 , 5 and 10 centime , silver 1/4 , 1/2 , 1 , 2 and 5 franc , and gold 20 and 40 franc coins were introduced .',\n",
              "       '461/463 -- 476 -RRB- , more known by his nickname Romulus Augustulus -LRB- Little Augustus -RRB- , was the last Western Roman Emperor reigning from the 31 October 475 until his deposition on the 4 September 476 .',\n",
              "       'The ball is about 3\\xa01/4 inches -LRB- 8.3 centimetres -RRB- in diameter and weighs about four ounces -LRB- 113.4 grams -RRB- .',\n",
              "       'His father , Paul Joseph James Martin , a Franco-Ontarian of 1/4 Irish and 3/4 French descent , served thirty-three years as a member of the Canadian House of Commons , and was a Cabinet minister in four Liberal governments .',\n",
              "       'Assuming an albedo similar to that of the primary , the magnitude suggests a quite substantial diameter ; perhaps ~ 250 km or about 1/4th to 1/3rd the diameter of Orcus .',\n",
              "       'It encloses several lakes , most notably the long Lake Windsor -LRB- also called Lake Rosa -RRB- which occupies nearly 1/4 of the interior .',\n",
              "       'The outdoor ball is about 3\\xa01/4 inches -LRB- 8.3 cm -RRB- in diameter and weighs about four ounces -LRB- 113.4 g -RRB- .',\n",
              "       '1/4 was represented by sight or the sensation of light , symbolized by the pupil .',\n",
              "       'It is between 9 inches -LRB- 22.9 cm -RRB- and 9\\xa01/4 inches -LRB- 23.5 cm -RRB- in circumference .',\n",
              "       'About 1 million people speak a Ripuarian language . About 1/4 of the inhabitants of the area do .',\n",
              "       'He is between 1/8 and 1/4 Native American .',\n",
              "       'The ball is about 3\\xa01/4 inches -LRB- 8.3 centimetres -RRB- in diameter and about four ounces -LRB- 113.4 grams -RRB- .',\n",
              "       'It encloses several lakes , most notably the 12-mile long Lake Windsor -LRB- also called Lake Rosa -RRB- which occupies nearly 1/4 of the interior .',\n",
              "       'The ball is about 3\\xa01/4 inches -LRB- 8.3 centimetres -RRB- in diameter and weighs about four ounces -LRB- 113.4 grams -RRB- .',\n",
              "       '1/4 was represented by sight or the sensation of light . This was symbolized by the pupil .'],\n",
              "      dtype=object)"
            ]
          },
          "metadata": {},
          "execution_count": 89
        }
      ]
    },
    {
      "cell_type": "code",
      "source": [],
      "metadata": {
        "id": "V0zmrAwsfUuT"
      },
      "execution_count": null,
      "outputs": []
    }
  ]
}