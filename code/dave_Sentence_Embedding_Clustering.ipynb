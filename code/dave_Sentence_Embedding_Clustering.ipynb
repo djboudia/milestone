{
  "nbformat": 4,
  "nbformat_minor": 0,
  "metadata": {
    "colab": {
      "provenance": [],
      "authorship_tag": "ABX9TyMMMvqG8QU5NGHZu56V/Q1h",
      "include_colab_link": true
    },
    "kernelspec": {
      "name": "python3",
      "display_name": "Python 3"
    },
    "language_info": {
      "name": "python"
    }
  },
  "cells": [
    {
      "cell_type": "markdown",
      "metadata": {
        "id": "view-in-github",
        "colab_type": "text"
      },
      "source": [
        "<a href=\"https://colab.research.google.com/github/djboudia/milestone/blob/main/code/dave_Sentence_Embedding_Clustering.ipynb\" target=\"_parent\"><img src=\"https://colab.research.google.com/assets/colab-badge.svg\" alt=\"Open In Colab\"/></a>"
      ]
    },
    {
      "cell_type": "code",
      "execution_count": 2,
      "metadata": {
        "id": "g6G632k2A9CS"
      },
      "outputs": [],
      "source": [
        "import pandas as pd\n",
        "import numpy as np\n",
        "import spacy\n",
        "from sklearn.cluster import KMeans"
      ]
    },
    {
      "cell_type": "code",
      "source": [
        "from google.colab import drive\n",
        "drive.mount('/content/drive')"
      ],
      "metadata": {
        "colab": {
          "base_uri": "https://localhost:8080/"
        },
        "id": "8Cn0DZMjBFgY",
        "outputId": "87549151-bd41-4076-a411-8c8d7452c3e6"
      },
      "execution_count": 3,
      "outputs": [
        {
          "output_type": "stream",
          "name": "stdout",
          "text": [
            "Mounted at /content/drive\n"
          ]
        }
      ]
    },
    {
      "cell_type": "code",
      "source": [
        "train = pd.read_csv('drive/Shareddrives/Milestone 2/Training_set.csv', \n",
        "                      sep='\\t',index_col='ix')\n",
        "train['lemmatized_text'] = train['lemmatized_text'].fillna('')"
      ],
      "metadata": {
        "id": "5o5g0ZauBZ5X"
      },
      "execution_count": 4,
      "outputs": []
    },
    {
      "cell_type": "code",
      "source": [
        "sample_df = train.groupby('label').apply(lambda x: x.sample(100, random_state=99))"
      ],
      "metadata": {
        "id": "b8ckCNeCBnC1"
      },
      "execution_count": 8,
      "outputs": []
    },
    {
      "cell_type": "code",
      "source": [
        "sample_df.label.value_counts()"
      ],
      "metadata": {
        "colab": {
          "base_uri": "https://localhost:8080/"
        },
        "id": "PJHreMjlB7gk",
        "outputId": "cb63db89-16d4-4733-e264-9225a21f06ad"
      },
      "execution_count": 9,
      "outputs": [
        {
          "output_type": "execute_result",
          "data": {
            "text/plain": [
              "0    100\n",
              "1    100\n",
              "Name: label, dtype: int64"
            ]
          },
          "metadata": {},
          "execution_count": 9
        }
      ]
    },
    {
      "cell_type": "code",
      "source": [
        "nlp = spacy.load(\"en_core_web_sm\")"
      ],
      "metadata": {
        "id": "aHLv_rbIB8UH"
      },
      "execution_count": 10,
      "outputs": []
    },
    {
      "cell_type": "code",
      "source": [
        "nlp(\"hello\").vector"
      ],
      "metadata": {
        "colab": {
          "base_uri": "https://localhost:8080/"
        },
        "id": "Vyc84BmVKtTS",
        "outputId": "22e2d38b-8861-4aca-8e29-5aba673a9882"
      },
      "execution_count": 51,
      "outputs": [
        {
          "output_type": "execute_result",
          "data": {
            "text/plain": [
              "array([-0.2941795 ,  1.5272205 , -0.4683753 , -1.8280268 , -0.74592257,\n",
              "        0.6092551 , -0.8355911 ,  0.7906867 ,  1.045971  , -0.6345818 ,\n",
              "       -1.7085754 ,  0.01963254, -0.38694516, -0.5170162 , -0.02926812,\n",
              "       -0.02439508, -0.1038921 , -0.79197043,  0.68297803, -1.392732  ,\n",
              "       -0.13546929, -0.5550416 , -0.2953764 ,  1.9752024 ,  1.1682112 ,\n",
              "        1.0081902 , -0.27417094,  0.07946961,  1.2316859 , -0.89663047,\n",
              "        0.00315231,  0.59060776,  1.2002959 , -0.31095332, -0.4725518 ,\n",
              "        1.4017552 , -0.77239996,  0.96849704,  0.43788937,  0.3952584 ,\n",
              "       -0.22612579,  0.02860118,  1.6635642 , -0.16189456, -0.6866143 ,\n",
              "       -0.4621243 ,  0.69297665,  0.4818843 ,  0.24375269, -1.3171694 ,\n",
              "       -0.6073364 , -2.0163002 , -0.7114007 , -0.86640716,  1.2473066 ,\n",
              "        0.12987283, -1.5047197 , -0.17922944,  0.64802176,  0.9489882 ,\n",
              "       -0.0382005 ,  0.93950033,  1.1077173 , -1.5541037 ,  0.5939657 ,\n",
              "        0.09965324,  0.33008885,  0.0321556 ,  0.78923154, -0.36857486,\n",
              "        1.0548742 , -0.6624383 , -0.4901601 , -0.6330641 ,  0.45000857,\n",
              "       -1.3632748 ,  1.4867442 , -0.25444806,  1.2282357 , -0.20216851,\n",
              "       -0.35300562, -0.34275383, -0.35792798, -0.20616972, -0.9133607 ,\n",
              "        0.10835028, -1.3086565 , -0.20924982, -0.42999125, -0.15025583,\n",
              "        0.19860776, -0.20527823, -0.06742664,  1.9674218 ,  0.8508758 ,\n",
              "       -0.393398  ], dtype=float32)"
            ]
          },
          "metadata": {},
          "execution_count": 51
        }
      ]
    },
    {
      "cell_type": "code",
      "source": [
        "sample_df['embedding'] =  sample_df['lemmatized_text'].apply(lambda x: nlp(x).vector)"
      ],
      "metadata": {
        "id": "tnxzOgUODhhH"
      },
      "execution_count": 54,
      "outputs": []
    },
    {
      "cell_type": "code",
      "source": [
        "from numpy import loadtxt\n",
        "\n",
        "embeddings = loadtxt('drive/Shareddrives/Milestone 2/embeddings.csv', delimiter=',')\n",
        "embeddings"
      ],
      "metadata": {
        "colab": {
          "base_uri": "https://localhost:8080/"
        },
        "id": "BvbrnvciMlHp",
        "outputId": "20a14602-22fb-4306-9d16-075ef3eab917"
      },
      "execution_count": 61,
      "outputs": [
        {
          "output_type": "execute_result",
          "data": {
            "text/plain": [
              "array([[-0.10521097,  0.04652381,  0.09932816, ..., -0.53146267,\n",
              "         0.24081262,  0.04764764],\n",
              "       [-0.09595645,  0.28408318,  0.0416585 , ..., -0.6049515 ,\n",
              "         0.23389882,  0.2116979 ],\n",
              "       [ 0.00624134,  0.04496894,  0.28006756, ..., -0.21483139,\n",
              "         0.40460399, -0.12047322],\n",
              "       ...,\n",
              "       [-0.05062665,  0.11346165,  0.37695   , ..., -0.35318942,\n",
              "         0.46983531, -0.04529605],\n",
              "       [-0.13691955,  0.46627818, -0.0528408 , ..., -0.55561154,\n",
              "         0.56975963,  0.25214309],\n",
              "       [-0.23494626,  0.30814424,  0.28275521, ..., -0.56363898,\n",
              "         0.44196188,  0.01724233]])"
            ]
          },
          "metadata": {},
          "execution_count": 61
        }
      ]
    },
    {
      "cell_type": "code",
      "source": [
        "train"
      ],
      "metadata": {
        "colab": {
          "base_uri": "https://localhost:8080/",
          "height": 450
        },
        "id": "hZUftEKjDmOt",
        "outputId": "68e8aafe-84fe-4cd7-94cb-891ee823d385"
      },
      "execution_count": 58,
      "outputs": [
        {
          "output_type": "execute_result",
          "data": {
            "text/plain": [
              "                                            original_text  \\\n",
              "ix                                                          \n",
              "0       There is manuscript evidence that Austen conti...   \n",
              "1       In a remarkable comparative analysis , Mandaea...   \n",
              "2       Before Persephone was released to Hermes , who...   \n",
              "3       Cogeneration plants are commonly found in dist...   \n",
              "4       Geneva -LRB- , ; , ; , ; ; -RRB- is the second...   \n",
              "...                                                   ...   \n",
              "416761  Individual metropolitan districts range from 4...   \n",
              "416762                                         References   \n",
              "416763  A Duke Nukem 3D version has been sold for Xbox...   \n",
              "416765  There are hand gestures in both Hindu and Budd...   \n",
              "416766  If it is necessary to use colors , try to choo...   \n",
              "\n",
              "                                          lemmatized_text  d_chall_score  \\\n",
              "ix                                                                         \n",
              "0       there be manuscript evidence that austen conti...       8.236551   \n",
              "1       in a remarkable comparative analysis mandaean ...      12.320171   \n",
              "2       before persephone be release to hermes who hav...       6.594628   \n",
              "3       cogeneration plant be commonly find in distric...       7.015012   \n",
              "4       geneva lrb rrb be the secondmostpopulous city ...       9.847729   \n",
              "...                                                   ...            ...   \n",
              "416761  individual metropolitan district range from 4 ...      11.649225   \n",
              "416762                                          reference      15.839600   \n",
              "416763  a duke nukem 3d version have be sell for xbox ...       9.165334   \n",
              "416765  there be hand gesture in both hindu and buddhi...       6.812000   \n",
              "416766  if it be necessary to use color try to choose ...       5.983118   \n",
              "\n",
              "        aoa_mean  aoa_min  aoa_max  conc_rating_mean  conc_rating_min  \\\n",
              "ix                                                                      \n",
              "0       5.809310     3.57    12.12          2.495517             1.33   \n",
              "1       7.499286     2.89    11.94          2.251429             1.46   \n",
              "2       5.231351     2.78    11.17          2.537222             1.43   \n",
              "3       6.742000     3.56    11.53          3.429643             1.52   \n",
              "4       5.455000     3.69    12.62          2.399333             1.43   \n",
              "...          ...      ...      ...               ...              ...   \n",
              "416761  6.323333     3.69    11.59          2.746667             1.55   \n",
              "416762  8.670000     8.67     8.67               NaN              NaN   \n",
              "416763  5.790000     2.89     8.11          2.710909             1.38   \n",
              "416765  6.788889     2.74    12.79          2.964444             1.52   \n",
              "416766  4.924571     2.89     7.55          2.450000             1.19   \n",
              "\n",
              "        conc_rating_max  num_lemmas  label  \n",
              "ix                                          \n",
              "0                  4.57        37.0      1  \n",
              "1                  3.77        21.0      1  \n",
              "2                  4.86        42.0      1  \n",
              "3                  4.93        32.0      1  \n",
              "4                  4.79        28.0      1  \n",
              "...                 ...         ...    ...  \n",
              "416761             3.52        16.0      0  \n",
              "416762              NaN         1.0      0  \n",
              "416763             4.89        15.0      0  \n",
              "416765             4.72        10.0      0  \n",
              "416766             4.72        39.0      0  \n",
              "\n",
              "[375092 rows x 11 columns]"
            ],
            "text/html": [
              "\n",
              "  <div id=\"df-eec06aaf-f09f-4db3-84d4-c7ad23d93d8a\">\n",
              "    <div class=\"colab-df-container\">\n",
              "      <div>\n",
              "<style scoped>\n",
              "    .dataframe tbody tr th:only-of-type {\n",
              "        vertical-align: middle;\n",
              "    }\n",
              "\n",
              "    .dataframe tbody tr th {\n",
              "        vertical-align: top;\n",
              "    }\n",
              "\n",
              "    .dataframe thead th {\n",
              "        text-align: right;\n",
              "    }\n",
              "</style>\n",
              "<table border=\"1\" class=\"dataframe\">\n",
              "  <thead>\n",
              "    <tr style=\"text-align: right;\">\n",
              "      <th></th>\n",
              "      <th>original_text</th>\n",
              "      <th>lemmatized_text</th>\n",
              "      <th>d_chall_score</th>\n",
              "      <th>aoa_mean</th>\n",
              "      <th>aoa_min</th>\n",
              "      <th>aoa_max</th>\n",
              "      <th>conc_rating_mean</th>\n",
              "      <th>conc_rating_min</th>\n",
              "      <th>conc_rating_max</th>\n",
              "      <th>num_lemmas</th>\n",
              "      <th>label</th>\n",
              "    </tr>\n",
              "    <tr>\n",
              "      <th>ix</th>\n",
              "      <th></th>\n",
              "      <th></th>\n",
              "      <th></th>\n",
              "      <th></th>\n",
              "      <th></th>\n",
              "      <th></th>\n",
              "      <th></th>\n",
              "      <th></th>\n",
              "      <th></th>\n",
              "      <th></th>\n",
              "      <th></th>\n",
              "    </tr>\n",
              "  </thead>\n",
              "  <tbody>\n",
              "    <tr>\n",
              "      <th>0</th>\n",
              "      <td>There is manuscript evidence that Austen conti...</td>\n",
              "      <td>there be manuscript evidence that austen conti...</td>\n",
              "      <td>8.236551</td>\n",
              "      <td>5.809310</td>\n",
              "      <td>3.57</td>\n",
              "      <td>12.12</td>\n",
              "      <td>2.495517</td>\n",
              "      <td>1.33</td>\n",
              "      <td>4.57</td>\n",
              "      <td>37.0</td>\n",
              "      <td>1</td>\n",
              "    </tr>\n",
              "    <tr>\n",
              "      <th>1</th>\n",
              "      <td>In a remarkable comparative analysis , Mandaea...</td>\n",
              "      <td>in a remarkable comparative analysis mandaean ...</td>\n",
              "      <td>12.320171</td>\n",
              "      <td>7.499286</td>\n",
              "      <td>2.89</td>\n",
              "      <td>11.94</td>\n",
              "      <td>2.251429</td>\n",
              "      <td>1.46</td>\n",
              "      <td>3.77</td>\n",
              "      <td>21.0</td>\n",
              "      <td>1</td>\n",
              "    </tr>\n",
              "    <tr>\n",
              "      <th>2</th>\n",
              "      <td>Before Persephone was released to Hermes , who...</td>\n",
              "      <td>before persephone be release to hermes who hav...</td>\n",
              "      <td>6.594628</td>\n",
              "      <td>5.231351</td>\n",
              "      <td>2.78</td>\n",
              "      <td>11.17</td>\n",
              "      <td>2.537222</td>\n",
              "      <td>1.43</td>\n",
              "      <td>4.86</td>\n",
              "      <td>42.0</td>\n",
              "      <td>1</td>\n",
              "    </tr>\n",
              "    <tr>\n",
              "      <th>3</th>\n",
              "      <td>Cogeneration plants are commonly found in dist...</td>\n",
              "      <td>cogeneration plant be commonly find in distric...</td>\n",
              "      <td>7.015012</td>\n",
              "      <td>6.742000</td>\n",
              "      <td>3.56</td>\n",
              "      <td>11.53</td>\n",
              "      <td>3.429643</td>\n",
              "      <td>1.52</td>\n",
              "      <td>4.93</td>\n",
              "      <td>32.0</td>\n",
              "      <td>1</td>\n",
              "    </tr>\n",
              "    <tr>\n",
              "      <th>4</th>\n",
              "      <td>Geneva -LRB- , ; , ; , ; ; -RRB- is the second...</td>\n",
              "      <td>geneva lrb rrb be the secondmostpopulous city ...</td>\n",
              "      <td>9.847729</td>\n",
              "      <td>5.455000</td>\n",
              "      <td>3.69</td>\n",
              "      <td>12.62</td>\n",
              "      <td>2.399333</td>\n",
              "      <td>1.43</td>\n",
              "      <td>4.79</td>\n",
              "      <td>28.0</td>\n",
              "      <td>1</td>\n",
              "    </tr>\n",
              "    <tr>\n",
              "      <th>...</th>\n",
              "      <td>...</td>\n",
              "      <td>...</td>\n",
              "      <td>...</td>\n",
              "      <td>...</td>\n",
              "      <td>...</td>\n",
              "      <td>...</td>\n",
              "      <td>...</td>\n",
              "      <td>...</td>\n",
              "      <td>...</td>\n",
              "      <td>...</td>\n",
              "      <td>...</td>\n",
              "    </tr>\n",
              "    <tr>\n",
              "      <th>416761</th>\n",
              "      <td>Individual metropolitan districts range from 4...</td>\n",
              "      <td>individual metropolitan district range from 4 ...</td>\n",
              "      <td>11.649225</td>\n",
              "      <td>6.323333</td>\n",
              "      <td>3.69</td>\n",
              "      <td>11.59</td>\n",
              "      <td>2.746667</td>\n",
              "      <td>1.55</td>\n",
              "      <td>3.52</td>\n",
              "      <td>16.0</td>\n",
              "      <td>0</td>\n",
              "    </tr>\n",
              "    <tr>\n",
              "      <th>416762</th>\n",
              "      <td>References</td>\n",
              "      <td>reference</td>\n",
              "      <td>15.839600</td>\n",
              "      <td>8.670000</td>\n",
              "      <td>8.67</td>\n",
              "      <td>8.67</td>\n",
              "      <td>NaN</td>\n",
              "      <td>NaN</td>\n",
              "      <td>NaN</td>\n",
              "      <td>1.0</td>\n",
              "      <td>0</td>\n",
              "    </tr>\n",
              "    <tr>\n",
              "      <th>416763</th>\n",
              "      <td>A Duke Nukem 3D version has been sold for Xbox...</td>\n",
              "      <td>a duke nukem 3d version have be sell for xbox ...</td>\n",
              "      <td>9.165334</td>\n",
              "      <td>5.790000</td>\n",
              "      <td>2.89</td>\n",
              "      <td>8.11</td>\n",
              "      <td>2.710909</td>\n",
              "      <td>1.38</td>\n",
              "      <td>4.89</td>\n",
              "      <td>15.0</td>\n",
              "      <td>0</td>\n",
              "    </tr>\n",
              "    <tr>\n",
              "      <th>416765</th>\n",
              "      <td>There are hand gestures in both Hindu and Budd...</td>\n",
              "      <td>there be hand gesture in both hindu and buddhi...</td>\n",
              "      <td>6.812000</td>\n",
              "      <td>6.788889</td>\n",
              "      <td>2.74</td>\n",
              "      <td>12.79</td>\n",
              "      <td>2.964444</td>\n",
              "      <td>1.52</td>\n",
              "      <td>4.72</td>\n",
              "      <td>10.0</td>\n",
              "      <td>0</td>\n",
              "    </tr>\n",
              "    <tr>\n",
              "      <th>416766</th>\n",
              "      <td>If it is necessary to use colors , try to choo...</td>\n",
              "      <td>if it be necessary to use color try to choose ...</td>\n",
              "      <td>5.983118</td>\n",
              "      <td>4.924571</td>\n",
              "      <td>2.89</td>\n",
              "      <td>7.55</td>\n",
              "      <td>2.450000</td>\n",
              "      <td>1.19</td>\n",
              "      <td>4.72</td>\n",
              "      <td>39.0</td>\n",
              "      <td>0</td>\n",
              "    </tr>\n",
              "  </tbody>\n",
              "</table>\n",
              "<p>375092 rows × 11 columns</p>\n",
              "</div>\n",
              "      <button class=\"colab-df-convert\" onclick=\"convertToInteractive('df-eec06aaf-f09f-4db3-84d4-c7ad23d93d8a')\"\n",
              "              title=\"Convert this dataframe to an interactive table.\"\n",
              "              style=\"display:none;\">\n",
              "        \n",
              "  <svg xmlns=\"http://www.w3.org/2000/svg\" height=\"24px\"viewBox=\"0 0 24 24\"\n",
              "       width=\"24px\">\n",
              "    <path d=\"M0 0h24v24H0V0z\" fill=\"none\"/>\n",
              "    <path d=\"M18.56 5.44l.94 2.06.94-2.06 2.06-.94-2.06-.94-.94-2.06-.94 2.06-2.06.94zm-11 1L8.5 8.5l.94-2.06 2.06-.94-2.06-.94L8.5 2.5l-.94 2.06-2.06.94zm10 10l.94 2.06.94-2.06 2.06-.94-2.06-.94-.94-2.06-.94 2.06-2.06.94z\"/><path d=\"M17.41 7.96l-1.37-1.37c-.4-.4-.92-.59-1.43-.59-.52 0-1.04.2-1.43.59L10.3 9.45l-7.72 7.72c-.78.78-.78 2.05 0 2.83L4 21.41c.39.39.9.59 1.41.59.51 0 1.02-.2 1.41-.59l7.78-7.78 2.81-2.81c.8-.78.8-2.07 0-2.86zM5.41 20L4 18.59l7.72-7.72 1.47 1.35L5.41 20z\"/>\n",
              "  </svg>\n",
              "      </button>\n",
              "      \n",
              "  <style>\n",
              "    .colab-df-container {\n",
              "      display:flex;\n",
              "      flex-wrap:wrap;\n",
              "      gap: 12px;\n",
              "    }\n",
              "\n",
              "    .colab-df-convert {\n",
              "      background-color: #E8F0FE;\n",
              "      border: none;\n",
              "      border-radius: 50%;\n",
              "      cursor: pointer;\n",
              "      display: none;\n",
              "      fill: #1967D2;\n",
              "      height: 32px;\n",
              "      padding: 0 0 0 0;\n",
              "      width: 32px;\n",
              "    }\n",
              "\n",
              "    .colab-df-convert:hover {\n",
              "      background-color: #E2EBFA;\n",
              "      box-shadow: 0px 1px 2px rgba(60, 64, 67, 0.3), 0px 1px 3px 1px rgba(60, 64, 67, 0.15);\n",
              "      fill: #174EA6;\n",
              "    }\n",
              "\n",
              "    [theme=dark] .colab-df-convert {\n",
              "      background-color: #3B4455;\n",
              "      fill: #D2E3FC;\n",
              "    }\n",
              "\n",
              "    [theme=dark] .colab-df-convert:hover {\n",
              "      background-color: #434B5C;\n",
              "      box-shadow: 0px 1px 3px 1px rgba(0, 0, 0, 0.15);\n",
              "      filter: drop-shadow(0px 1px 2px rgba(0, 0, 0, 0.3));\n",
              "      fill: #FFFFFF;\n",
              "    }\n",
              "  </style>\n",
              "\n",
              "      <script>\n",
              "        const buttonEl =\n",
              "          document.querySelector('#df-eec06aaf-f09f-4db3-84d4-c7ad23d93d8a button.colab-df-convert');\n",
              "        buttonEl.style.display =\n",
              "          google.colab.kernel.accessAllowed ? 'block' : 'none';\n",
              "\n",
              "        async function convertToInteractive(key) {\n",
              "          const element = document.querySelector('#df-eec06aaf-f09f-4db3-84d4-c7ad23d93d8a');\n",
              "          const dataTable =\n",
              "            await google.colab.kernel.invokeFunction('convertToInteractive',\n",
              "                                                     [key], {});\n",
              "          if (!dataTable) return;\n",
              "\n",
              "          const docLinkHtml = 'Like what you see? Visit the ' +\n",
              "            '<a target=\"_blank\" href=https://colab.research.google.com/notebooks/data_table.ipynb>data table notebook</a>'\n",
              "            + ' to learn more about interactive tables.';\n",
              "          element.innerHTML = '';\n",
              "          dataTable['output_type'] = 'display_data';\n",
              "          await google.colab.output.renderOutput(dataTable, element);\n",
              "          const docLink = document.createElement('div');\n",
              "          docLink.innerHTML = docLinkHtml;\n",
              "          element.appendChild(docLink);\n",
              "        }\n",
              "      </script>\n",
              "    </div>\n",
              "  </div>\n",
              "  "
            ]
          },
          "metadata": {},
          "execution_count": 58
        }
      ]
    },
    {
      "cell_type": "code",
      "source": [
        "km = KMeans(n_clusters=2, random_state=99)"
      ],
      "metadata": {
        "id": "EqaQccJoEJ_h"
      },
      "execution_count": 42,
      "outputs": []
    },
    {
      "cell_type": "code",
      "source": [
        "km.fit(embeddings)"
      ],
      "metadata": {
        "colab": {
          "base_uri": "https://localhost:8080/"
        },
        "id": "S4jRRps2Hhpg",
        "outputId": "fa866f08-351b-42c7-f14f-9062fe6bf1bf"
      },
      "execution_count": 62,
      "outputs": [
        {
          "output_type": "execute_result",
          "data": {
            "text/plain": [
              "KMeans(n_clusters=2, random_state=99)"
            ]
          },
          "metadata": {},
          "execution_count": 62
        }
      ]
    },
    {
      "cell_type": "code",
      "source": [
        "list(embeddings)[0]"
      ],
      "metadata": {
        "colab": {
          "base_uri": "https://localhost:8080/"
        },
        "id": "Hex65UL2OOiw",
        "outputId": "60eee47b-f3fe-43d3-bdf6-51b742ddfab1"
      },
      "execution_count": 70,
      "outputs": [
        {
          "output_type": "execute_result",
          "data": {
            "text/plain": [
              "array([-1.05210972e-01,  4.65238100e-02,  9.93281595e-02, -1.75262135e-01,\n",
              "        1.05959404e-01,  7.21647347e-02,  3.40389283e-02,  6.15379197e-04,\n",
              "       -1.46887833e-01, -1.30073711e-01,  1.23996048e-01, -1.29617497e-01,\n",
              "        6.91244149e-02,  1.95413370e-01,  2.64887639e-01, -2.86775740e-01,\n",
              "        2.26632167e-01, -5.17168571e-02, -4.27528809e-01,  2.64305399e-01,\n",
              "        2.22248462e-01, -1.95456411e-01,  3.49145551e-01,  2.14121570e-01,\n",
              "        3.57560463e-01, -1.69768356e-01, -1.36774545e-01, -4.95117264e-01,\n",
              "        1.37717386e-02, -2.25114026e-04, -1.33911234e-01,  2.41183780e-01,\n",
              "       -9.48948575e-02, -5.79071668e-02, -2.35077168e-01,  2.92380456e-01,\n",
              "        1.12738689e-01,  1.11592936e-01, -1.00752337e-01, -1.50980378e-01,\n",
              "       -3.75893812e-01, -2.03883162e-01,  1.44989547e-01, -1.95518997e-01,\n",
              "        2.65665931e-02, -1.22966474e-01,  1.97658190e-01, -4.36888455e-01,\n",
              "        1.86846534e-01, -4.13945976e-01,  1.09790675e-01,  1.78535756e-02,\n",
              "        2.98885976e-01,  9.26002954e-01, -2.79756977e-01, -2.11464356e+00,\n",
              "       -2.22957906e-01, -3.89438055e-01,  9.92003244e-01,  5.21732724e-01,\n",
              "       -1.91258617e-01,  7.52574284e-01, -9.14335943e-02,  3.47943143e-01,\n",
              "        7.12242290e-01, -2.63644023e-01,  3.59024237e-01,  3.66957854e-01,\n",
              "        3.08607578e-01, -1.08173425e-01,  1.24694279e-02, -2.01208094e-01,\n",
              "       -1.93004265e-02, -3.05818854e-01,  1.19494331e-01, -4.27603416e-03,\n",
              "       -1.26249288e-01,  1.40401948e-01, -8.49064979e-01, -1.14794284e-01,\n",
              "        4.24043122e-01,  4.86467388e-02, -1.45411144e-01,  1.91800552e-01,\n",
              "       -1.07463381e+00, -2.49633837e-01,  3.28067607e-02, -2.82369356e-01,\n",
              "       -1.30194463e-01, -3.49015855e-01, -5.74284211e-04, -2.82131687e-01,\n",
              "        4.87647654e-02,  2.81762990e-01, -5.62752101e-01, -1.88291142e-02,\n",
              "       -2.66237691e-01, -5.31462669e-01,  2.40812621e-01,  4.76476412e-02])"
            ]
          },
          "metadata": {},
          "execution_count": 70
        }
      ]
    },
    {
      "cell_type": "code",
      "source": [
        "km.labels_.shape\n"
      ],
      "metadata": {
        "colab": {
          "base_uri": "https://localhost:8080/"
        },
        "id": "DBS4ILomHoja",
        "outputId": "0fb352df-2adf-4dbc-ebcb-0b0f3cb1e3c5"
      },
      "execution_count": 72,
      "outputs": [
        {
          "output_type": "execute_result",
          "data": {
            "text/plain": [
              "(395169, 100)"
            ]
          },
          "metadata": {},
          "execution_count": 72
        }
      ]
    },
    {
      "cell_type": "code",
      "source": [
        "import seaborn as sns"
      ],
      "metadata": {
        "id": "REdzC9C6NQk9"
      },
      "execution_count": 64,
      "outputs": []
    },
    {
      "cell_type": "code",
      "source": [
        "sns.scatterplot(km.labels_)"
      ],
      "metadata": {
        "colab": {
          "base_uri": "https://localhost:8080/",
          "height": 336
        },
        "id": "-2eLl60gNWsQ",
        "outputId": "eb7db353-f98b-4b79-efc7-c7dab8d6c652"
      },
      "execution_count": 66,
      "outputs": [
        {
          "output_type": "stream",
          "name": "stderr",
          "text": [
            "/usr/local/lib/python3.7/dist-packages/seaborn/_decorators.py:43: FutureWarning: Pass the following variable as a keyword arg: x. From version 0.12, the only valid positional argument will be `data`, and passing other arguments without an explicit keyword will result in an error or misinterpretation.\n",
            "  FutureWarning\n"
          ]
        },
        {
          "output_type": "execute_result",
          "data": {
            "text/plain": [
              "<matplotlib.axes._subplots.AxesSubplot at 0x7f47812ba8d0>"
            ]
          },
          "metadata": {},
          "execution_count": 66
        },
        {
          "output_type": "display_data",
          "data": {
            "text/plain": [
              "<Figure size 432x288 with 1 Axes>"
            ],
            "image/png": "[encoded data removed]"
          },
          "metadata": {
            "needs_background": "light"
          }
        }
      ]
    },
    {
      "cell_type": "code",
      "source": [],
      "metadata": {
        "id": "SRAP4YTANhtq"
      },
      "execution_count": 68,
      "outputs": []
    },
    {
      "cell_type": "code",
      "source": [],
      "metadata": {
        "id": "UkkmYoRJNwDP"
      },
      "execution_count": null,
      "outputs": []
    }
  ]
}