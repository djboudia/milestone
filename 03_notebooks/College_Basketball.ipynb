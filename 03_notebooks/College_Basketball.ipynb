{
 "cells": [
  {
   "cell_type": "code",
   "execution_count": 2,
   "id": "80713038-d5ad-496a-a977-6a110dae7187",
   "metadata": {},
   "outputs": [],
   "source": [
    "import requests\n",
    "import re\n",
    "import pandas as pd\n",
    "from bs4 import BeautifulSoup"
   ]
  },
  {
   "cell_type": "code",
   "execution_count": 3,
   "id": "5184e2f5-c6a7-45f1-aa64-d542a82423e4",
   "metadata": {},
   "outputs": [],
   "source": [
    "url = 'https://www.sports-reference.com/cbb/schools/michigan-state/2019-schedule.html'\n",
    "r = requests.get(url)"
   ]
  },
  {
   "cell_type": "code",
   "execution_count": 4,
   "id": "f4a072f2-c5aa-48a2-82c5-6dec2855282b",
   "metadata": {},
   "outputs": [],
   "source": [
    "soup = BeautifulSoup(r.content,'html.parser')"
   ]
  },
  {
   "cell_type": "code",
   "execution_count": 5,
   "id": "7603abd9-d8b1-408d-9d4a-fdb6388cc392",
   "metadata": {},
   "outputs": [],
   "source": [
    "tb = soup.find_all('table', {'id': 'schedule'})"
   ]
  },
  {
   "cell_type": "code",
   "execution_count": 13,
   "id": "0e5a4dd9-f30f-44e8-b58f-3cc975beab3e",
   "metadata": {},
   "outputs": [
    {
     "name": "stdout",
     "output_type": "stream",
     "text": [
      "https://www.sports-reference.com/cbb/schools/michigan/2010-schedule.html\n",
      "https://www.sports-reference.com/cbb/schools/michigan/2011-schedule.html\n",
      "https://www.sports-reference.com/cbb/schools/michigan/2012-schedule.html\n",
      "https://www.sports-reference.com/cbb/schools/michigan/2013-schedule.html\n",
      "https://www.sports-reference.com/cbb/schools/michigan/2014-schedule.html\n",
      "https://www.sports-reference.com/cbb/schools/michigan/2015-schedule.html\n",
      "https://www.sports-reference.com/cbb/schools/michigan/2016-schedule.html\n",
      "https://www.sports-reference.com/cbb/schools/michigan/2017-schedule.html\n",
      "https://www.sports-reference.com/cbb/schools/michigan/2018-schedule.html\n",
      "https://www.sports-reference.com/cbb/schools/michigan/2019-schedule.html\n",
      "https://www.sports-reference.com/cbb/schools/michigan-state/2010-schedule.html\n",
      "https://www.sports-reference.com/cbb/schools/michigan-state/2011-schedule.html\n",
      "https://www.sports-reference.com/cbb/schools/michigan-state/2012-schedule.html\n",
      "https://www.sports-reference.com/cbb/schools/michigan-state/2013-schedule.html\n",
      "https://www.sports-reference.com/cbb/schools/michigan-state/2014-schedule.html\n",
      "https://www.sports-reference.com/cbb/schools/michigan-state/2015-schedule.html\n",
      "https://www.sports-reference.com/cbb/schools/michigan-state/2016-schedule.html\n",
      "https://www.sports-reference.com/cbb/schools/michigan-state/2017-schedule.html\n",
      "https://www.sports-reference.com/cbb/schools/michigan-state/2018-schedule.html\n",
      "https://www.sports-reference.com/cbb/schools/michigan-state/2019-schedule.html\n"
     ]
    }
   ],
   "source": [
    "lst_gameobjs = [] # Create an empty list to store game objects in.\n",
    "\n",
    "schools = ['michigan','michigan-state'] # Create a list of schools to loop through and grab scores from\n",
    "\n",
    "years = [2010,2011,2012, 2013,2014,2015,2016,2017,2018,2019]\n",
    "# create a list of seasons that will be extracted.  The season's year represents the year\n",
    "# that falls during the winter.\n",
    "\n",
    "\n",
    "# loop through each school's seasons\n",
    "for school in schools:\n",
    "    for year in years:\n",
    "        url = f'https://www.sports-reference.com/cbb/schools/{school}/{year}-schedule.html' #build the url based on school/season\n",
    "        print(url) \n",
    "        r = requests.get(url) #get the html content from the webpage\n",
    "        soup = BeautifulSoup(r.content,'html.parser') # convert it into a BeautifulSoup object to make it easier to reference tags\n",
    "        \n",
    "        \n",
    "        # Get AP Poll Data\n",
    "        poll_dict = {}  # create a blank dictionary object which will be filled with the dates the rankings were released and the values will be the ranks.\n",
    "        poll_tb = soup.find_all('table', {'id': 'polls'})[0]\n",
    "        head = poll_tb.thead.tr.find_all('th')\n",
    "        body = poll_tb.tbody.tr.find_all('td')\n",
    "        for i,val in enumerate(head[1:]):\n",
    "            str_date = val.get_text()\n",
    "            if str_date == 'Pre':\n",
    "                str_date = '11/1'\n",
    "                date = str(year - 1) + \"/\" + str_date\n",
    "                date =  pd.to_datetime(date)\n",
    "            elif str_date == 'Final':\n",
    "                date = date + pd.Timedelta(days=7)\n",
    "            elif int(str_date.split('/')[0]) < 11:\n",
    "                date = str(year) + \"/\" + str_date\n",
    "                date =  pd.to_datetime(date)\n",
    "\n",
    "            else:\n",
    "                date = str(year - 1) + \"/\" + str_date \n",
    "                date =  pd.to_datetime(date)\n",
    "            poll_dict[date] = body[i].get_text()\n",
    "            # poll_dates.append(val.get_text())\n",
    "        \n",
    "\n",
    "        tb = soup.find_all('table', {'id': 'schedule'})  # find the html table that has an id 'schedule' and extract the first instance\n",
    "        \n",
    "        \n",
    "        # the table has rows representing games.  Each row has cells (html td tags) that represent a piece of information about the game\n",
    "        # The following code will take one row and loop through all of the cells in that row assigning them to specific keys in the newly\n",
    "        # created dictionary.  There is no variation in what cells contain for a game in each season. However, the source did not capture\n",
    "        # time the game was scheduled to start data prior to the 2014/2015 season so that alters the placement of the data in the table\n",
    "        for tr in tb[0].find_all('tr')[1:]: \n",
    "            # print(tr)\n",
    "            gameobj = {} # Create/initialize a dictionary object for a specific game\n",
    "            \n",
    "            cells = tr.find_all('td')  # for each \n",
    "            \n",
    "            if len(cells) > 0 and year >= 2015:\n",
    "                gameobj['school'] = school.replace('-',' ')\n",
    "                gameobj['sport'] = 'basketball'\n",
    "                gameobj['gamedate'] = pd.to_datetime(cells[0].text)\n",
    "                gameobj['gametime'] = cells[1].text\n",
    "                gameobj['type'] = cells[2].text\n",
    "                gameobj['opponent'] = cells[4].text\n",
    "                gameobj['conf'] = cells[5].text\n",
    "                gameobj['result'] = cells[6].text\n",
    "                gameobj['team_points']=cells[7].text\n",
    "                gameobj['opp_points']=cells[8].text\n",
    "                gameobj['ot']=cells[9].text\n",
    "                gameobj['w']=cells[10].text\n",
    "                gameobj['l']=cells[11].text\n",
    "                gameobj['streak']=cells[12].text\n",
    "                gameobj['arena']=cells[13].text\n",
    "\n",
    "            elif len(cells) > 0 and year < 2015:\n",
    "                gameobj['school'] = school.replace('-',' ')\n",
    "                gameobj['sport'] = 'basketball'\n",
    "                gameobj['gamedate'] = pd.to_datetime(cells[0].text)\n",
    "                gameobj['type'] = cells[1].text\n",
    "                gameobj['opponent'] = cells[3].text\n",
    "                gameobj['conf'] = cells[4].text\n",
    "                gameobj['result'] = cells[5].text\n",
    "                gameobj['team_points']=cells[6].text\n",
    "                gameobj['opp_points']=cells[7].text\n",
    "                gameobj['ot']=cells[8].text\n",
    "                gameobj['w']=cells[9].text\n",
    "                gameobj['l']=cells[10].text\n",
    "                gameobj['streak']=cells[11].text\n",
    "                gameobj['arena']=cells[12].text\n",
    "            \n",
    "            \n",
    "            \n",
    "            # If there were games played, we want to run through the list of dates when the rankings were updated (captured in the table at the top of each school's season page)\n",
    "            # We want to confirm that each game being played is prior to the NCAA Tournament (AP Polls no longer matter at that point).  If the game is before the \n",
    "            # tourney, we want to verify what rank should be attributed to the school by comparing where the game fell in relation to the rankings.  Rankings come out weekly \n",
    "            # so we're looking to see whether the gamedate is between the loop's current date and the next date in the sequence (the next time rankings come out). If the date is greater than\n",
    "            # or equal to the current iteration and less than the next iteration date, we know we can attribute that iteration date's associated ranking to the school when they played that game.\n",
    "            \n",
    "            if len(cells) > 0:\n",
    "                polldates = list(poll_dict.keys())\n",
    "                for i in range(len(polldates)):\n",
    "                    if gameobj['type'] != 'NCAA':\n",
    "                        if gameobj['gamedate'] > polldates[i] and gameobj['gamedate'] < polldates[i+1]:\n",
    "                            gameobj['ap_rank'] = poll_dict[polldates[i]]\n",
    "                            break\n",
    "                        elif gameobj['gamedate'] == polldates[i+1]:\n",
    "                            gameobj['ap_rank'] = poll_dict[polldates[i+1]]\n",
    "                            break                            \n",
    "                \n",
    "                \n",
    "\n",
    "            lst_gameobjs.append(gameobj) # add the gameobject to the list of game objects."
   ]
  },
  {
   "cell_type": "code",
   "execution_count": 14,
   "id": "9122fe14-3a0e-4e56-9090-6828a171691e",
   "metadata": {},
   "outputs": [],
   "source": [
    "import pandas as pd"
   ]
  },
  {
   "cell_type": "code",
   "execution_count": 15,
   "id": "71531894-3346-4352-acdd-462b6fab643c",
   "metadata": {},
   "outputs": [
    {
     "data": {
      "text/plain": [
       "(764, 16)"
      ]
     },
     "execution_count": 15,
     "metadata": {},
     "output_type": "execute_result"
    }
   ],
   "source": [
    "df = pd.DataFrame(lst_gameobjs)\n",
    "df.shape"
   ]
  },
  {
   "cell_type": "code",
   "execution_count": 16,
   "id": "a65880ef-f24e-4227-a545-70e744536f40",
   "metadata": {},
   "outputs": [
    {
     "data": {
      "text/plain": [
       "school          38\n",
       "sport           38\n",
       "gamedate        38\n",
       "type            38\n",
       "opponent        38\n",
       "conf            38\n",
       "result          38\n",
       "team_points     38\n",
       "opp_points      38\n",
       "ot              38\n",
       "w               38\n",
       "l               38\n",
       "streak          38\n",
       "arena           38\n",
       "ap_rank         96\n",
       "gametime       397\n",
       "dtype: int64"
      ]
     },
     "execution_count": 16,
     "metadata": {},
     "output_type": "execute_result"
    }
   ],
   "source": [
    "# Running is the isnull() and will give a sense how much data is missing\n",
    "df.isnull().sum()"
   ]
  },
  {
   "cell_type": "code",
   "execution_count": 17,
   "id": "442aa621-b51b-482d-9874-d92f78ba0665",
   "metadata": {},
   "outputs": [],
   "source": [
    "# We see that there are 38 instances where it appears data is missing and this is consistent across most of the columns.  Rank and gametime are higher but we expected this since they shouldn't always be filled.\n",
    "# Dropping these values.\n",
    "df = df.dropna(how='all')"
   ]
  },
  {
   "cell_type": "code",
   "execution_count": 18,
   "id": "e9cf38cc-5283-40a5-9bf7-128a375d3f85",
   "metadata": {},
   "outputs": [],
   "source": [
    "df.to_csv('cbb_2010_2019.csv',index=False)"
   ]
  },
  {
   "cell_type": "code",
   "execution_count": 74,
   "id": "cc710586-4e7a-4591-a15a-829a5728ea09",
   "metadata": {},
   "outputs": [
    {
     "data": {
      "text/plain": [
       "397"
      ]
     },
     "execution_count": 74,
     "metadata": {},
     "output_type": "execute_result"
    }
   ],
   "source": [
    "df[df.gametime.isna()==True].shape[0]"
   ]
  },
  {
   "cell_type": "code",
   "execution_count": 75,
   "id": "34d19f50-fd5b-48ae-9674-d1fcfb9a6a9a",
   "metadata": {},
   "outputs": [
    {
     "data": {
      "text/plain": [
       "school         object\n",
       "gamedate       object\n",
       "type           object\n",
       "opponent       object\n",
       "conf           object\n",
       "result         object\n",
       "team_points    object\n",
       "opp_points     object\n",
       "ot             object\n",
       "w              object\n",
       "l              object\n",
       "streak         object\n",
       "arena          object\n",
       "gametime       object\n",
       "dtype: object"
      ]
     },
     "execution_count": 75,
     "metadata": {},
     "output_type": "execute_result"
    }
   ],
   "source": [
    "df.dtypes"
   ]
  },
  {
   "cell_type": "code",
   "execution_count": 76,
   "id": "5dab28eb-c820-47f7-9100-a7f117926947",
   "metadata": {},
   "outputs": [
    {
     "data": {
      "text/plain": [
       "array(['REG', nan, 'CTOURN', 'NCAA'], dtype=object)"
      ]
     },
     "execution_count": 76,
     "metadata": {},
     "output_type": "execute_result"
    }
   ],
   "source": [
    "df.type.unique()"
   ]
  }
 ],
 "metadata": {
  "kernelspec": {
   "display_name": "Python 3 (ipykernel)",
   "language": "python",
   "name": "python3"
  },
  "language_info": {
   "codemirror_mode": {
    "name": "ipython",
    "version": 3
   },
   "file_extension": ".py",
   "mimetype": "text/x-python",
   "name": "python",
   "nbconvert_exporter": "python",
   "pygments_lexer": "ipython3",
   "version": "3.9.7"
  }
 },
 "nbformat": 4,
 "nbformat_minor": 5
}
