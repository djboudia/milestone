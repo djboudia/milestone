{
 "cells": [
  {
   "cell_type": "code",
   "execution_count": 2,
   "id": "9e8c624f",
   "metadata": {},
   "outputs": [],
   "source": [
    "import pandas as pd\n",
    "import numpy as np"
   ]
  },
  {
   "cell_type": "code",
   "execution_count": 4,
   "id": "e1c58e3d",
   "metadata": {},
   "outputs": [],
   "source": [
    "df = pd.read_csv('../04_finaldata/full_data.csv')"
   ]
  },
  {
   "cell_type": "code",
   "execution_count": 5,
   "id": "a38fcb05",
   "metadata": {},
   "outputs": [
    {
     "name": "stdout",
     "output_type": "stream",
     "text": [
      "<class 'pandas.core.frame.DataFrame'>\n",
      "RangeIndex: 1714 entries, 0 to 1713\n",
      "Data columns (total 18 columns):\n",
      " #   Column          Non-Null Count  Dtype  \n",
      "---  ------          --------------  -----  \n",
      " 0   game_id         1714 non-null   int64  \n",
      " 1   school          1714 non-null   object \n",
      " 2   sport           1714 non-null   object \n",
      " 3   start_dt        1714 non-null   object \n",
      " 4   season_type     1714 non-null   object \n",
      " 5   opponent        1714 non-null   object \n",
      " 6   result          1714 non-null   int64  \n",
      " 7   team_points     1714 non-null   int64  \n",
      " 8   opp_points      1714 non-null   int64  \n",
      " 9   ot              1714 non-null   int64  \n",
      " 10  rank            1340 non-null   object \n",
      " 11  opponent_rank   514 non-null    float64\n",
      " 12  end_inc_window  1714 non-null   object \n",
      " 13  attendance      759 non-null    float64\n",
      " 14  incident_id     1172 non-null   float64\n",
      " 15  offense_id      1172 non-null   float64\n",
      " 16  offense_name    1172 non-null   object \n",
      " 17  incident_date   1172 non-null   object \n",
      "dtypes: float64(4), int64(5), object(9)\n",
      "memory usage: 241.2+ KB\n"
     ]
    }
   ],
   "source": [
    "df.info()"
   ]
  },
  {
   "cell_type": "code",
   "execution_count": null,
   "id": "aede56e5",
   "metadata": {},
   "outputs": [],
   "source": []
  }
 ],
 "metadata": {
  "kernelspec": {
   "display_name": "Python 3 (ipykernel)",
   "language": "python",
   "name": "python3"
  },
  "language_info": {
   "codemirror_mode": {
    "name": "ipython",
    "version": 3
   },
   "file_extension": ".py",
   "mimetype": "text/x-python",
   "name": "python",
   "nbconvert_exporter": "python",
   "pygments_lexer": "ipython3",
   "version": "3.8.12"
  }
 },
 "nbformat": 4,
 "nbformat_minor": 5
}
